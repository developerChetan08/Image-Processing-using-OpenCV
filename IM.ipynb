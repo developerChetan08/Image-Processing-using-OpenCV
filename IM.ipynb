{
 "cells": [
  {
   "cell_type": "code",
   "execution_count": 2,
   "id": "113436b4",
   "metadata": {},
   "outputs": [
    {
     "data": {
      "text/plain": [
       "True"
      ]
     },
     "execution_count": 2,
     "metadata": {},
     "output_type": "execute_result"
    }
   ],
   "source": [
    "import cv2 as cv\n",
    "img = cv.imread(\"animal.png\")\n",
    "##print(img)\n",
    "##print(img.shape)\n",
    "##rs = cv.resize(img,(256,256))\n",
    "##cv.imshow(\"Animals\",rs)\n",
    "\n",
    "gray_img = cv.cvtColor(img,cv.COLOR_BGRA2GRAY)\n",
    "cv.imshow(\"Gray Animals IMG\",gray_img)\n",
    "cv.waitKey(0)\n",
    "cv.imwrite(\"Gray Animals IMG.jpg\",gray_img)\n"
   ]
  },
  {
   "cell_type": "code",
   "execution_count": 7,
   "id": "ab37f872",
   "metadata": {},
   "outputs": [
    {
     "data": {
      "text/plain": [
       "-1"
      ]
     },
     "execution_count": 7,
     "metadata": {},
     "output_type": "execute_result"
    }
   ],
   "source": [
    "import cv2 as cv\n",
    "img = cv.imread(\"animal.png\")\n",
    "img[:,:,0] = 0\n",
    "cv.imshow(\"With Out Blue IMG\",img)\n",
    "cv.waitKey(0)"
   ]
  },
  {
   "cell_type": "code",
   "execution_count": 11,
   "id": "1208b172",
   "metadata": {},
   "outputs": [
    {
     "data": {
      "text/plain": [
       "-1"
      ]
     },
     "execution_count": 11,
     "metadata": {},
     "output_type": "execute_result"
    }
   ],
   "source": [
    "import cv2 as cv\n",
    "img = cv.imread(\"animal.png\")\n",
    "BL = img[:,:,0] \n",
    "cv.imshow(\"BL\",BL)\n",
    "cv.waitKey(0)"
   ]
  },
  {
   "cell_type": "code",
   "execution_count": 12,
   "id": "fd4e3d13",
   "metadata": {},
   "outputs": [
    {
     "data": {
      "text/plain": [
       "-1"
      ]
     },
     "execution_count": 12,
     "metadata": {},
     "output_type": "execute_result"
    }
   ],
   "source": [
    "import cv2 as cv\n",
    "img = cv.imread(\"animal.png\")\n",
    "GR = img[:,:,1] \n",
    "cv.imshow(\"GR\",GR)\n",
    "cv.waitKey(0)"
   ]
  },
  {
   "cell_type": "code",
   "execution_count": 13,
   "id": "1c575b6f",
   "metadata": {},
   "outputs": [
    {
     "data": {
      "text/plain": [
       "-1"
      ]
     },
     "execution_count": 13,
     "metadata": {},
     "output_type": "execute_result"
    }
   ],
   "source": [
    "import cv2 as cv\n",
    "img = cv.imread(\"animal.png\")\n",
    "RD = img[:,:,2] \n",
    "cv.imshow(\"RD\",RD)\n",
    "cv.waitKey(0)"
   ]
  },
  {
   "cell_type": "code",
   "execution_count": 16,
   "id": "242b4faf",
   "metadata": {},
   "outputs": [
    {
     "data": {
      "text/plain": [
       "-1"
      ]
     },
     "execution_count": 16,
     "metadata": {},
     "output_type": "execute_result"
    }
   ],
   "source": [
    "import cv2 as cv\n",
    "import numpy as np\n",
    "img = cv.imread(\"animal.png\")\n",
    "im_b,im_g,im_r = img[:,:,0],img[:,:,1],img[:,:,2]\n",
    "compare = np.hstack((im_b,im_g,im_r))\n",
    "cv.imshow(\"compare image\",compare)\n",
    "cv.waitKey(0)"
   ]
  },
  {
   "cell_type": "code",
   "execution_count": 1,
   "id": "6744fda8",
   "metadata": {},
   "outputs": [
    {
     "data": {
      "text/plain": [
       "-1"
      ]
     },
     "execution_count": 1,
     "metadata": {},
     "output_type": "execute_result"
    }
   ],
   "source": [
    "import cv2 as cv\n",
    "import numpy as np\n",
    "img = cv.imread(\"animal.png\")\n",
    "rotate = cv.rotate(img,cv.ROTATE_90_CLOCKWISE)\n",
    "cv.imshow(\"rotate image\",rotate)\n",
    "cv.waitKey(0)"
   ]
  },
  {
   "cell_type": "code",
   "execution_count": 19,
   "id": "f79a823c",
   "metadata": {},
   "outputs": [
    {
     "data": {
      "text/plain": [
       "-1"
      ]
     },
     "execution_count": 19,
     "metadata": {},
     "output_type": "execute_result"
    }
   ],
   "source": [
    "import cv2 as cv\n",
    "import numpy as np\n",
    "img = cv.imread(\"animal.png\")\n",
    "rotate = cv.rotate(img,cv.ROTATE_90_COUNTERCLOCKWISE)\n",
    "cv.imshow(\"rotate image\",rotate)\n",
    "cv.waitKey(0)"
   ]
  },
  {
   "cell_type": "code",
   "execution_count": 21,
   "id": "43490b4c",
   "metadata": {},
   "outputs": [
    {
     "data": {
      "text/plain": [
       "-1"
      ]
     },
     "execution_count": 21,
     "metadata": {},
     "output_type": "execute_result"
    }
   ],
   "source": [
    "import cv2 as cv\n",
    "import numpy as np\n",
    "img = cv.imread(\"animal.png\")\n",
    "r_h,r_w = img.shape[:2]\n",
    "angle = 45\n",
    "rot_matrix = cv.getRotationMatrix2D((r_w/2,r_h/2),angle,1)\n",
    "rotate = cv.warpAffine(img,rot_matrix,(r_h,r_w))\n",
    "cv.imshow(\"rotate image\",rotate)\n",
    "cv.waitKey(0)"
   ]
  },
  {
   "cell_type": "raw",
   "id": "9d661699",
   "metadata": {},
   "source": [
    "Blur:-"
   ]
  },
  {
   "cell_type": "code",
   "execution_count": 2,
   "id": "52bca928",
   "metadata": {},
   "outputs": [
    {
     "data": {
      "text/plain": [
       "-1"
      ]
     },
     "execution_count": 2,
     "metadata": {},
     "output_type": "execute_result"
    }
   ],
   "source": [
    "import cv2 as cv\n",
    "img = cv.imread(\"animal.png\")\n",
    "blur_img = cv.GaussianBlur(img,(5,5),0)\n",
    "cv.imshow(\"Image\",img)\n",
    "cv.imshow(\"Blur Image\",blur_img)\n",
    "cv.waitKey(0)"
   ]
  },
  {
   "cell_type": "raw",
   "id": "1aa16676",
   "metadata": {},
   "source": [
    "hue saturation light:-"
   ]
  },
  {
   "cell_type": "code",
   "execution_count": 4,
   "id": "29f64979",
   "metadata": {},
   "outputs": [
    {
     "data": {
      "text/plain": [
       "-1"
      ]
     },
     "execution_count": 4,
     "metadata": {},
     "output_type": "execute_result"
    }
   ],
   "source": [
    "import cv2 as cv\n",
    "img = cv.imread(\"animal.png\")\n",
    "hsv_img = cv.cvtColor(img,cv.COLOR_BGR2HSV)\n",
    "h_fact = 20\n",
    "s_fact = 2.4\n",
    "v_fact = 2.6\n",
    "hsv_img[:,:,0] = (hsv_img[:,:,0] + h_fact) % 180\n",
    "hsv_img[:,:,1] = (hsv_img[:,:,1] * s_fact)\n",
    "hsv_img[:,:,2] = (hsv_img[:,:,2] + v_fact)\n",
    "\n",
    "new_img = cv.cvtColor(hsv_img,cv.COLOR_HSV2BGR)\n",
    "cv.imshow(\"Image\",img)\n",
    "cv.imshow(\"Blur Image\",new_img)\n",
    "cv.waitKey(0)"
   ]
  },
  {
   "cell_type": "code",
   "execution_count": 5,
   "id": "bdd256d4",
   "metadata": {},
   "outputs": [
    {
     "data": {
      "text/plain": [
       "-1"
      ]
     },
     "execution_count": 5,
     "metadata": {},
     "output_type": "execute_result"
    }
   ],
   "source": [
    "import cv2 as cv\n",
    "img = cv.imread(\"animal.png\")\n",
    "grey_img = cv.cvtColor(img,cv.COLOR_BGR2GRAY)\n",
    "edge = cv.Canny(grey_img,0,30)\n",
    "##cv.imshow(\"Image\",img)\n",
    "cv.imshow(\"Edge Image\",edge)\n",
    "cv.waitKey(0)"
   ]
  },
  {
   "cell_type": "code",
   "execution_count": null,
   "id": "111f5fc6",
   "metadata": {},
   "outputs": [],
   "source": []
  }
 ],
 "metadata": {
  "kernelspec": {
   "display_name": "Python 3 (ipykernel)",
   "language": "python",
   "name": "python3"
  },
  "language_info": {
   "codemirror_mode": {
    "name": "ipython",
    "version": 3
   },
   "file_extension": ".py",
   "mimetype": "text/x-python",
   "name": "python",
   "nbconvert_exporter": "python",
   "pygments_lexer": "ipython3",
   "version": "3.9.13"
  }
 },
 "nbformat": 4,
 "nbformat_minor": 5
}
