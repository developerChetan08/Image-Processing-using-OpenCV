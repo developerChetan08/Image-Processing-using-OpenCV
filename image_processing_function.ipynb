{
 "cells": [
  {
   "cell_type": "code",
   "execution_count": 1,
   "id": "f7263167",
   "metadata": {},
   "outputs": [],
   "source": [
    "import cv2 as cv\n",
    "import numpy as np\n",
    "import os"
   ]
  },
  {
   "cell_type": "markdown",
   "id": "b171ca28",
   "metadata": {},
   "source": [
    "# Read an Image"
   ]
  },
  {
   "cell_type": "code",
   "execution_count": null,
   "id": "91c42d55",
   "metadata": {},
   "outputs": [],
   "source": [
    "img = cv.imread(\"animal.png\")"
   ]
  },
  {
   "cell_type": "code",
   "execution_count": null,
   "id": "ab55b9b4",
   "metadata": {},
   "outputs": [],
   "source": [
    "##check type :-\n",
    "print(type(img))"
   ]
  },
  {
   "cell_type": "code",
   "execution_count": null,
   "id": "c92cd5a4",
   "metadata": {},
   "outputs": [],
   "source": [
    "##check shape :-\n",
    "print(img.shape)"
   ]
  },
  {
   "cell_type": "markdown",
   "id": "35f605de",
   "metadata": {},
   "source": [
    "shape :- (800, 800, 3)\n",
    "    width:-800,height:-800,channel(BGR):-3"
   ]
  },
  {
   "cell_type": "code",
   "execution_count": null,
   "id": "e70aeb50",
   "metadata": {},
   "outputs": [],
   "source": [
    "##show image :-\n",
    "cv.imshow(\"Animal Image\",img)\n",
    "cv.waitKey(0)"
   ]
  },
  {
   "cell_type": "markdown",
   "id": "da81bcb5",
   "metadata": {},
   "source": [
    "# Converting it to Grayscale:-"
   ]
  },
  {
   "cell_type": "code",
   "execution_count": null,
   "id": "0eb4ef8b",
   "metadata": {},
   "outputs": [],
   "source": [
    "gray_img = cv.cvtColor(img,cv.COLOR_BGRA2GRAY)\n",
    "cv.imshow(\"Gray Image\",gray_img)\n",
    "cv.waitKey(0)"
   ]
  },
  {
   "cell_type": "code",
   "execution_count": null,
   "id": "de523f89",
   "metadata": {},
   "outputs": [],
   "source": [
    "##Check Gray Img Shape:-\n",
    "print(gray_img.shape)"
   ]
  },
  {
   "cell_type": "markdown",
   "id": "a62a1036",
   "metadata": {},
   "source": [
    "# BGR Color Channels:-"
   ]
  },
  {
   "cell_type": "markdown",
   "id": "9130fab5",
   "metadata": {},
   "source": [
    "Blue Color Are 0 :-"
   ]
  },
  {
   "cell_type": "code",
   "execution_count": null,
   "id": "b5422776",
   "metadata": {},
   "outputs": [],
   "source": [
    "img = cv.imread(\"animal.png\")\n",
    "img[:,:,0] = 0\n",
    "cv.imshow(\"Blue Color Are Zero\",img)\n",
    "cv.waitKey(0)"
   ]
  },
  {
   "cell_type": "markdown",
   "id": "36e867ce",
   "metadata": {},
   "source": [
    "Green Color Are 0 :-"
   ]
  },
  {
   "cell_type": "code",
   "execution_count": null,
   "id": "cc7395a9",
   "metadata": {},
   "outputs": [],
   "source": [
    "img = cv.imread(\"animal.png\")\n",
    "img[:,:,1] = 0\n",
    "cv.imshow(\"Green Color Are Zero\",img)\n",
    "cv.waitKey(0)"
   ]
  },
  {
   "cell_type": "markdown",
   "id": "deca2d2a",
   "metadata": {},
   "source": [
    "Red Color Are 0 :-"
   ]
  },
  {
   "cell_type": "code",
   "execution_count": null,
   "id": "8081e5ed",
   "metadata": {},
   "outputs": [],
   "source": [
    "img = cv.imread(\"animal.png\")\n",
    "img[:,:,2] = 0\n",
    "cv.imshow(\"Red Color Are Zero\",img)\n",
    "cv.waitKey(0)"
   ]
  },
  {
   "cell_type": "markdown",
   "id": "4badc0e5",
   "metadata": {},
   "source": [
    "# Compare All 3 Image:-"
   ]
  },
  {
   "cell_type": "code",
   "execution_count": null,
   "id": "ebbc136a",
   "metadata": {},
   "outputs": [],
   "source": [
    "img = cv.imread(\"animal.png\")\n",
    "img_blue,img_green,img_red = img[:,:,0],img[:,:,1],img[:,:,2]\n",
    "compare = np.hstack((img_blue,img_green,img_red))\n",
    "cv.imshow(\"compare image\",compare)\n",
    "cv.waitKey(0)"
   ]
  },
  {
   "cell_type": "markdown",
   "id": "fc5506c8",
   "metadata": {},
   "source": [
    "# Resize:-"
   ]
  },
  {
   "cell_type": "code",
   "execution_count": null,
   "id": "cffc4b11",
   "metadata": {},
   "outputs": [],
   "source": [
    "img = cv.imread(\"animal.png\")\n",
    "resize_img = cv.resize(img,(256,256))\n",
    "cv.imshow(\"Resize Image\",resize_img)\n",
    "cv.waitKey(0)"
   ]
  },
  {
   "cell_type": "markdown",
   "id": "4edc35db",
   "metadata": {},
   "source": [
    "Check Resize Image Shape:-"
   ]
  },
  {
   "cell_type": "code",
   "execution_count": null,
   "id": "ddb01ed2",
   "metadata": {},
   "outputs": [],
   "source": [
    "print(resize_img.shape)"
   ]
  },
  {
   "cell_type": "markdown",
   "id": "88e75b05",
   "metadata": {},
   "source": [
    "Change In Prcentage:-"
   ]
  },
  {
   "cell_type": "code",
   "execution_count": null,
   "id": "1786a30c",
   "metadata": {},
   "outputs": [],
   "source": [
    "img = cv.imread(\"animal.png\")\n",
    "resize_img = cv.resize(img,(img.shape[1]//2,img.shape[0]//2))\n",
    "cv.imshow(\"Resize Image\",resize_img)\n",
    "cv.waitKey(0)"
   ]
  },
  {
   "cell_type": "markdown",
   "id": "7a537c06",
   "metadata": {},
   "source": [
    "# Flip:-"
   ]
  },
  {
   "cell_type": "raw",
   "id": "d6dbd236",
   "metadata": {},
   "source": [
    " 0 ---> Reverse (Vertical Axis)\n",
    " 1 ---> Reverse(Horizontal Axis)\n",
    "-1 ---> Reverse(Vertical + Horizontal)"
   ]
  },
  {
   "cell_type": "code",
   "execution_count": null,
   "id": "40bbd08f",
   "metadata": {},
   "outputs": [],
   "source": [
    "img = cv.imread(\"animal.png\")\n",
    "flip_img = cv.flip(img,0)\n",
    "cv.imshow(\"Resize Image\",flip_img)\n",
    "cv.waitKey(0)"
   ]
  },
  {
   "cell_type": "code",
   "execution_count": null,
   "id": "33cd64d3",
   "metadata": {},
   "outputs": [],
   "source": [
    "img = cv.imread(\"animal.png\")\n",
    "flip_img = cv.flip(img,1)\n",
    "cv.imshow(\"Resize Image\",flip_img)\n",
    "cv.waitKey(0)"
   ]
  },
  {
   "cell_type": "code",
   "execution_count": null,
   "id": "b3fd1685",
   "metadata": {},
   "outputs": [],
   "source": [
    "img = cv.imread(\"animal.png\")\n",
    "flip_img = cv.flip(img,-1)\n",
    "cv.imshow(\"Resize Image\",flip_img)\n",
    "cv.waitKey(0)"
   ]
  },
  {
   "cell_type": "markdown",
   "id": "dc002ffa",
   "metadata": {},
   "source": [
    "# Rotate:-"
   ]
  },
  {
   "cell_type": "raw",
   "id": "0710936f",
   "metadata": {},
   "source": [
    "1)ROTATE 90D. CLOCKWISE"
   ]
  },
  {
   "cell_type": "code",
   "execution_count": null,
   "id": "aaf65ab9",
   "metadata": {},
   "outputs": [],
   "source": [
    "img = cv.imread(\"animal.png\")\n",
    "rotate = cv.rotate(img,cv.ROTATE_90_CLOCKWISE)\n",
    "cv.imshow(\"rotate image\",rotate)\n",
    "cv.waitKey(0)"
   ]
  },
  {
   "cell_type": "raw",
   "id": "212ce1a8",
   "metadata": {},
   "source": [
    "2)ROTATE 90D. COUNTERCLOCKWISE"
   ]
  },
  {
   "cell_type": "code",
   "execution_count": null,
   "id": "7a84b560",
   "metadata": {},
   "outputs": [],
   "source": [
    "img = cv.imread(\"animal.png\")\n",
    "rotate = cv.rotate(img,cv.ROTATE_90_COUNTERCLOCKWISE)\n",
    "cv.imshow(\"rotate image\",rotate)\n",
    "cv.waitKey(0)"
   ]
  },
  {
   "cell_type": "raw",
   "id": "2f248ab9",
   "metadata": {},
   "source": [
    "3)Custom Rotate"
   ]
  },
  {
   "cell_type": "code",
   "execution_count": null,
   "id": "6dee73d1",
   "metadata": {},
   "outputs": [],
   "source": [
    "img = cv.imread(\"animal.png\")\n",
    "r_h,r_w = img.shape[:2]\n",
    "angle = 45\n",
    "rot_matrix = cv.getRotationMatrix2D((r_w/2,r_h/2),angle,1)\n",
    "rotate = cv.warpAffine(img,rot_matrix,(r_h,r_w))\n",
    "cv.imshow(\"rotate image\",rotate)\n",
    "cv.waitKey(0)"
   ]
  },
  {
   "cell_type": "markdown",
   "id": "d4e9ab49",
   "metadata": {},
   "source": [
    "# Cropping:- "
   ]
  },
  {
   "cell_type": "code",
   "execution_count": null,
   "id": "591bc432",
   "metadata": {},
   "outputs": [],
   "source": [
    "img = cv.imread(\"animal.png\")\n",
    "crop_img = img[100:300,200:500]\n",
    "cv.imshow(\"Cropp Image\",crop_img)\n",
    "cv.waitKey(0)"
   ]
  },
  {
   "cell_type": "code",
   "execution_count": null,
   "id": "7b2ffc94",
   "metadata": {},
   "outputs": [],
   "source": [
    "img = cv.imread(\"animal.png\")\n",
    "crop_img = img[0:300,0:500]\n",
    "cv.imshow(\"Cropp Image\",crop_img)\n",
    "cv.waitKey(0)"
   ]
  },
  {
   "cell_type": "markdown",
   "id": "b724e753",
   "metadata": {},
   "source": [
    "# Save Image:-"
   ]
  },
  {
   "cell_type": "code",
   "execution_count": null,
   "id": "0573203f",
   "metadata": {},
   "outputs": [],
   "source": [
    "img = cv.imread(\"animal.png\")\n",
    "crop_img = img[0:300,0:500]\n",
    "cv.imwrite(\"New Cropp Image.png\",crop_img)\n",
    "cv.waitKey(0)\n"
   ]
  },
  {
   "cell_type": "markdown",
   "id": "4cfb5a3c",
   "metadata": {},
   "source": [
    "# Image Create:-"
   ]
  },
  {
   "cell_type": "code",
   "execution_count": null,
   "id": "55e7e294",
   "metadata": {},
   "outputs": [],
   "source": [
    "img = np.zeros((512,512,3))\n",
    "cv.imshow('Self Image Create:- ',img)\n",
    "cv.waitKey(0)"
   ]
  },
  {
   "cell_type": "markdown",
   "id": "2109d320",
   "metadata": {},
   "source": [
    "# Drawing Shape & Text:-"
   ]
  },
  {
   "cell_type": "raw",
   "id": "4c73854a",
   "metadata": {},
   "source": [
    "1)Rectangle:-"
   ]
  },
  {
   "cell_type": "code",
   "execution_count": null,
   "id": "ecd1c1e6",
   "metadata": {},
   "outputs": [],
   "source": [
    "img = np.zeros((512,512,3))\n",
    "cv.rectangle(img,pt1=(100,100),pt2=(300,300),color=(255,0,0),thickness=3)\n",
    "cv.imshow('Self Image Create:- ',img)\n",
    "cv.waitKey(0)"
   ]
  },
  {
   "cell_type": "raw",
   "id": "7c4b5ac7",
   "metadata": {},
   "source": [
    "2)Fill Background Rectangle:-"
   ]
  },
  {
   "cell_type": "code",
   "execution_count": null,
   "id": "15c2dfef",
   "metadata": {},
   "outputs": [],
   "source": [
    "img = np.zeros((512,512,3))\n",
    "cv.rectangle(img,pt1=(100,100),pt2=(300,300),color=(255,0,0),thickness=-1)\n",
    "cv.imshow('Self Image Create:- ',img)\n",
    "cv.waitKey(0)"
   ]
  },
  {
   "cell_type": "raw",
   "id": "c4dbd141",
   "metadata": {},
   "source": [
    "3)Circle:-"
   ]
  },
  {
   "cell_type": "code",
   "execution_count": null,
   "id": "0029e992",
   "metadata": {},
   "outputs": [],
   "source": [
    "img = np.zeros((512,512,3))\n",
    "cv.circle(img,center=(108,100),radius=58,color=(255,0,0),thickness=1)\n",
    "cv.imshow('Self Image Create:- ',img)\n",
    "cv.waitKey(0)"
   ]
  },
  {
   "cell_type": "raw",
   "id": "e9e7e3e9",
   "metadata": {},
   "source": [
    "4)Fill Background Circle:-"
   ]
  },
  {
   "cell_type": "code",
   "execution_count": null,
   "id": "943685c5",
   "metadata": {},
   "outputs": [],
   "source": [
    "img = np.zeros((512,512,3))\n",
    "cv.circle(img,center=(108,100),radius=58,color=(255,0,0),thickness=-1)\n",
    "cv.imshow('Self Image Create:- ',img)\n",
    "cv.waitKey(0)"
   ]
  },
  {
   "cell_type": "raw",
   "id": "436e7f28",
   "metadata": {},
   "source": [
    "5)Line:-"
   ]
  },
  {
   "cell_type": "code",
   "execution_count": null,
   "id": "a82d6355",
   "metadata": {},
   "outputs": [],
   "source": [
    "img = np.zeros((512,512,3))\n",
    "cv.line(img,pt1=(0,0),pt2=(300,300),color=(0,255,0),thickness=2)\n",
    "cv.imshow('Self Image Create:- ',img)\n",
    "cv.waitKey(0)"
   ]
  },
  {
   "cell_type": "raw",
   "id": "2ae90c70",
   "metadata": {},
   "source": [
    "6)Text Write:-"
   ]
  },
  {
   "cell_type": "code",
   "execution_count": null,
   "id": "8c235a21",
   "metadata": {},
   "outputs": [],
   "source": [
    "img = np.zeros((512,512,3))\n",
    "cv.putText(img,org=(100,100),fontScale=4,color=(0,255,255),thickness=2,lineType=cv.LINE_AA,text=\"Hello\",fontFace=cv.FONT_ITALIC)\n",
    "cv.imshow('Self Image Create:- ',img)\n",
    "cv.waitKey(0)"
   ]
  },
  {
   "cell_type": "raw",
   "id": "dde34f57",
   "metadata": {},
   "source": [
    "7)Draw Ellipse on Image"
   ]
  },
  {
   "cell_type": "code",
   "execution_count": null,
   "id": "46b88ced",
   "metadata": {},
   "outputs": [],
   "source": [
    "img = cv.imread(\"animal.png\")\n",
    " \n",
    "img_resize = cv.resize(img, (1280, 720))\n",
    " \n",
    "center = (500, 230)\n",
    "axes = (150, 200)\n",
    "angle = 30\n",
    "startAngle = 0\n",
    "endAngle = 360\n",
    "color = (12,200,43)\n",
    "thickness = 4\n",
    " \n",
    "#ellipse(img, center, axes, angle, startAngle, endAngle, color[, thickness[, lineType[, shift]]]) -> img\n",
    "cv.ellipse(img_resize, center, axes, angle, startAngle, endAngle, color, thickness)\n",
    " \n",
    "cv.imshow(\"Model Image\", img_resize)\n",
    "cv.waitKey(0)\n",
    "cv.destroyAllWindows()"
   ]
  },
  {
   "cell_type": "raw",
   "id": "3099124a",
   "metadata": {},
   "source": [
    "8)Draw Octagon using Polyline"
   ]
  },
  {
   "cell_type": "code",
   "execution_count": null,
   "id": "f5eb1936",
   "metadata": {},
   "outputs": [],
   "source": [
    "img = cv.imread(\"animal.png\")\n",
    " \n",
    "img_resize = cv.resize(img, (1280, 720))\n",
    " \n",
    " \n",
    "#pts = np.array([[12,45], [34,56], [23,76], [67,98], [93,56]])\n",
    " \n",
    "pts = np.array([[25, 70], [25, 145], \n",
    "                [75, 190], [150, 190], \n",
    "                [200, 145], [200, 70],  \n",
    "                [150, 25], [75, 25]], \n",
    "               np.int32)\n",
    " \n",
    "isClosed = True\n",
    "color = (34,65,200)\n",
    "thickness = 5\n",
    " \n",
    "#polylines(img, pts, isClosed, color[, thickness[, lineType[, shift]]]) -> img\n",
    "cv.polylines(img_resize, [pts], isClosed, color, thickness)\n",
    " \n",
    "cv.imshow(\"Model Image\", img_resize)\n",
    "cv.waitKey(0)\n",
    "cv.destroyAllWindows()"
   ]
  },
  {
   "cell_type": "code",
   "execution_count": null,
   "id": "7c330d29",
   "metadata": {},
   "outputs": [],
   "source": []
  },
  {
   "cell_type": "code",
   "execution_count": null,
   "id": "7c5b73fe",
   "metadata": {},
   "outputs": [],
   "source": []
  },
  {
   "cell_type": "code",
   "execution_count": null,
   "id": "a457a37b",
   "metadata": {},
   "outputs": [],
   "source": []
  },
  {
   "cell_type": "code",
   "execution_count": null,
   "id": "b4abcfea",
   "metadata": {},
   "outputs": [],
   "source": []
  },
  {
   "cell_type": "markdown",
   "id": "1807ba00",
   "metadata": {},
   "source": [
    "# Event:-"
   ]
  },
  {
   "cell_type": "raw",
   "id": "f2989eb8",
   "metadata": {},
   "source": [
    "1)Close Image Window:-"
   ]
  },
  {
   "cell_type": "code",
   "execution_count": null,
   "id": "3f5b8f9e",
   "metadata": {},
   "outputs": [],
   "source": [
    "img = np.zeros((512,512,3))\n",
    "while True:\n",
    "    cv.imshow('Window:- ',img)\n",
    "    if cv.waitKey(1) & 0xFF == ord('x'):\n",
    "        break\n",
    "cv.destroyAllWindows()"
   ]
  },
  {
   "cell_type": "raw",
   "id": "d68800de",
   "metadata": {},
   "source": [
    "2)Circle Draw On EventListener:-"
   ]
  },
  {
   "cell_type": "code",
   "execution_count": null,
   "id": "430c2596",
   "metadata": {},
   "outputs": [],
   "source": [
    "def draw(event,x,y,flags,params):\n",
    "    if event==1:\n",
    "        cv.circle(img,center=(x,y),radius=50,color=(0,0,255),thickness=-1)\n",
    "\n",
    "cv.namedWindow(winname=\"Window\")\n",
    "cv.setMouseCallback(\"Window\",draw)\n",
    "img = np.zeros((512,512,3))\n",
    "while True:\n",
    "    cv.imshow('Window',img)\n",
    "    if cv.waitKey(1) & 0xFF == ord('x'):\n",
    "        break\n",
    "cv.destroyAllWindows()"
   ]
  },
  {
   "cell_type": "raw",
   "id": "2abddd16",
   "metadata": {},
   "source": [
    "Drag Rectangle On EventListener:-\n",
    "Event 1 -->Mouse Click\n",
    "Event 0 -->Mouse Drag\n",
    "Event 4 -->Mouse Up"
   ]
  },
  {
   "cell_type": "code",
   "execution_count": null,
   "id": "ee1e2124",
   "metadata": {},
   "outputs": [],
   "source": [
    "flag = False\n",
    "ix = -1\n",
    "iy = -1\n",
    "def draw(event,x,y,flags,params):\n",
    "    global flag,ix,iy\n",
    "    if event == 1:\n",
    "        flag = True\n",
    "        ix = x\n",
    "        iy = y\n",
    "    elif event == 0:\n",
    "        if flag == True:\n",
    "            cv.rectangle(img,pt1=(ix,iy),pt2=(x,y),color=(0,0,255),thickness=-1)\n",
    "    elif event == 4:\n",
    "        flag = False\n",
    "        cv.rectangle(img,pt1=(ix,iy),pt2=(x,y),color=(0,0,255),thickness=-1)\n",
    "\n",
    "cv.namedWindow(winname=\"Window\")\n",
    "cv.setMouseCallback(\"Window\",draw)\n",
    "img = np.zeros((512,512,3))\n",
    "while True:\n",
    "    cv.imshow('Window',img)\n",
    "    if cv.waitKey(1) & 0xFF == ord('x'):\n",
    "        break\n",
    "cv.destroyAllWindows()"
   ]
  },
  {
   "cell_type": "markdown",
   "id": "523ae4c5",
   "metadata": {},
   "source": [
    "# Image Cropping Tools:-"
   ]
  },
  {
   "cell_type": "code",
   "execution_count": 2,
   "id": "3166e0ce",
   "metadata": {},
   "outputs": [],
   "source": [
    "img = cv.imread(\"animal.png\")\n",
    "flag = False\n",
    "ix = -1\n",
    "iy = -1\n",
    "def crop(event,x,y,flags,params):\n",
    "    global flag,ix,iy\n",
    "    if event == 1:\n",
    "        flag = True\n",
    "        ix = x\n",
    "        iy = y\n",
    "    elif event == 4:\n",
    "        fx = x\n",
    "        fy = y\n",
    "        flag = False\n",
    "        cv.rectangle(img,pt1=(ix,iy),pt2=(x,y),color=(0,0,255),thickness=1)\n",
    "        ##cropp image\n",
    "        cropped_img = img[iy:fy,ix:fx]\n",
    "        cv.imshow(\"New Crop Image\",cropped_img)\n",
    "        cv.waitKey(0)\n",
    "        \n",
    "\n",
    "cv.namedWindow(winname=\"Window\")\n",
    "cv.setMouseCallback(\"Window\",crop)\n",
    "while True:\n",
    "    cv.imshow('Window',img)\n",
    "    if cv.waitKey(1) & 0xFF == ord('x'):\n",
    "        break\n",
    "cv.destroyAllWindows()"
   ]
  },
  {
   "cell_type": "markdown",
   "id": "734ead49",
   "metadata": {},
   "source": [
    "# Video:-"
   ]
  },
  {
   "cell_type": "code",
   "execution_count": null,
   "id": "1a1c0983",
   "metadata": {},
   "outputs": [],
   "source": [
    "cap = cv.VideoCapture(0)\n",
    "while True:\n",
    "    ret,frame = cap.read()\n",
    "    cv.imshow(\"Webcam\",frame)\n",
    "    if cv.waitKey(1) & 0xFF == ord('x'):\n",
    "        break\n",
    "cv.destroyAllWindows()"
   ]
  },
  {
   "cell_type": "markdown",
   "id": "37ef0afe",
   "metadata": {},
   "source": [
    "# Video Black & White:-"
   ]
  },
  {
   "cell_type": "code",
   "execution_count": null,
   "id": "16b720ac",
   "metadata": {},
   "outputs": [],
   "source": [
    "cap = cv.VideoCapture(0)\n",
    "while True:\n",
    "    ret,frame = cap.read()\n",
    "    img_gray = cv.cvtColor(frame,cv.COLOR_BGR2GRAY)\n",
    "    cv.imshow(\"Webcam\",img_gray)\n",
    "    if cv.waitKey(1) & 0xFF == ord('x'):\n",
    "        break\n",
    "cv.destroyAllWindows()"
   ]
  },
  {
   "cell_type": "code",
   "execution_count": null,
   "id": "e3ef45b8",
   "metadata": {},
   "outputs": [],
   "source": [
    "cap = cv.VideoCapture(0)\n",
    "while True:\n",
    "    ret,frame = cap.read()\n",
    "    img_gray = cv.cvtColor(frame,cv.COLOR_BGR2LUV)\n",
    "    cv.imshow(\"Webcam\",img_gray)\n",
    "    if cv.waitKey(1) & 0xFF == ord('x'):\n",
    "        break\n",
    "cv.destroyAllWindows()"
   ]
  },
  {
   "cell_type": "markdown",
   "id": "759e69aa",
   "metadata": {},
   "source": [
    "# Play Video:-"
   ]
  },
  {
   "cell_type": "code",
   "execution_count": null,
   "id": "878913ae",
   "metadata": {},
   "outputs": [],
   "source": [
    "cap = cv.VideoCapture('output.avi')\n",
    "import time\n",
    "while True:\n",
    "    ret,frame = cap.read()\n",
    "    ##time.sleep(1/20)\n",
    "    time.sleep(0.5)\n",
    "    cv.imshow(\"Webcam\",frame)\n",
    "    if cv.waitKey(1) & 0xFF == ord('x'):\n",
    "        break\n",
    "        \n",
    "cv.destroyAllWindows()"
   ]
  },
  {
   "cell_type": "markdown",
   "id": "b771a6b5",
   "metadata": {},
   "source": [
    "# Video From NumPy Array:-"
   ]
  },
  {
   "cell_type": "code",
   "execution_count": null,
   "id": "f974ab4d",
   "metadata": {},
   "outputs": [],
   "source": [
    "width = 1280\n",
    "hieght = 720\n",
    "channel = 3\n",
    " \n",
    "fps = 30\n",
    "sec = 5\n",
    " \n",
    "# Syntax: VideoWriter_fourcc(c1, c2, c3, c4) # Concatenates 4 chars to a fourcc code\n",
    "#  cv.VideoWriter_fourcc('M','J','P','G') or cv2.VideoWriter_fourcc(*'MJPG)\n",
    " \n",
    "fourcc = cv.VideoWriter_fourcc(*'MP42') # FourCC is a 4-byte code used to specify the video codec.\n",
    "# A video codec is software or hardware that compresses and decompresses digital video. \n",
    "# In the context of video compression, codec is a portmanteau of encoder and decoder, \n",
    "# while a device that only compresses is typically called an encoder, and one that only \n",
    "# decompresses is a decoder. Source - Wikipedia\n",
    " \n",
    "#Syntax: cv.VideoWriter( filename, fourcc, fps, frameSize )\n",
    "video = cv.VideoWriter('test.mp4', fourcc, float(fps), (width, hieght))\n",
    " \n",
    "for frame_count in range(fps*sec):\n",
    "    img = np.random.randint(0,255, (hieght, width, channel), dtype = np.uint8)\n",
    "    video.write(img)\n",
    " \n",
    "video.release()"
   ]
  },
  {
   "cell_type": "markdown",
   "id": "93aeb636",
   "metadata": {},
   "source": [
    "# Video from Images:-"
   ]
  },
  {
   "cell_type": "code",
   "execution_count": null,
   "id": "30cacec4",
   "metadata": {},
   "outputs": [],
   "source": [
    "width = 1280\n",
    "height = 720\n",
    "channel = 3\n",
    " \n",
    "fps = 10\n",
    "sec = 5\n",
    " \n",
    "fourcc = cv.VideoWriter_fourcc(*'MP42')\n",
    " \n",
    "video = cv.VideoWriter('image_to_video.avi', fourcc, float(fps), (width, height))\n",
    " \n",
    "directry = r'E:\\all_gallery_data\\ghyanu'\n",
    " \n",
    "img_name_list = os.listdir(directry)\n",
    " \n",
    "for frame_count in range(fps*sec):\n",
    "    \n",
    "    img_name = np.random.choice(img_name_list)\n",
    "    img_path = os.path.join(directry, img_name)\n",
    "    img = cv.imread(img_path)\n",
    "    ##img_resize = cv.resize(img, (width, height))\n",
    "     \n",
    "    video.write(img)\n",
    "     \n",
    "video.release()"
   ]
  },
  {
   "cell_type": "code",
   "execution_count": null,
   "id": "87a2ad75",
   "metadata": {},
   "outputs": [],
   "source": []
  }
 ],
 "metadata": {
  "kernelspec": {
   "display_name": "Python 3 (ipykernel)",
   "language": "python",
   "name": "python3"
  },
  "language_info": {
   "codemirror_mode": {
    "name": "ipython",
    "version": 3
   },
   "file_extension": ".py",
   "mimetype": "text/x-python",
   "name": "python",
   "nbconvert_exporter": "python",
   "pygments_lexer": "ipython3",
   "version": "3.9.13"
  }
 },
 "nbformat": 4,
 "nbformat_minor": 5
}
