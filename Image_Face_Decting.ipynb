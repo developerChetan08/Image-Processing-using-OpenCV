{
 "cells": [
  {
   "cell_type": "code",
   "execution_count": null,
   "id": "f1a254e7",
   "metadata": {},
   "outputs": [],
   "source": [
    "!pip install mtcnn"
   ]
  },
  {
   "cell_type": "code",
   "execution_count": 1,
   "id": "722be7d1",
   "metadata": {},
   "outputs": [
    {
     "name": "stdout",
     "output_type": "stream",
     "text": [
      "WARNING:tensorflow:From C:\\Users\\hp\\anaconda3\\lib\\site-packages\\keras\\src\\losses.py:2976: The name tf.losses.sparse_softmax_cross_entropy is deprecated. Please use tf.compat.v1.losses.sparse_softmax_cross_entropy instead.\n",
      "\n",
      "WARNING:tensorflow:From C:\\Users\\hp\\anaconda3\\lib\\site-packages\\keras\\src\\backend.py:1398: The name tf.executing_eagerly_outside_functions is deprecated. Please use tf.compat.v1.executing_eagerly_outside_functions instead.\n",
      "\n",
      "WARNING:tensorflow:From C:\\Users\\hp\\anaconda3\\lib\\site-packages\\keras\\src\\layers\\pooling\\max_pooling2d.py:161: The name tf.nn.max_pool is deprecated. Please use tf.nn.max_pool2d instead.\n",
      "\n",
      "1/1 [==============================] - 0s 205ms/step\n",
      "1/1 [==============================] - 0s 164ms/step\n",
      "1/1 [==============================] - 0s 49ms/step\n",
      "1/1 [==============================] - 0s 33ms/step\n",
      "1/1 [==============================] - 0s 49ms/step\n",
      "1/1 [==============================] - 0s 39ms/step\n",
      "1/1 [==============================] - 0s 32ms/step\n",
      "1/1 [==============================] - 0s 31ms/step\n",
      "1/1 [==============================] - 0s 40ms/step\n",
      "1/1 [==============================] - 0s 31ms/step\n",
      "10/10 [==============================] - 0s 10ms/step\n",
      "3/3 [==============================] - 0s 27ms/step\n",
      "[{'box': [30, 262, 55, 68], 'confidence': 0.999976396560669, 'keypoints': {'left_eye': (43, 287), 'right_eye': (69, 287), 'nose': (53, 300), 'mouth_left': (44, 316), 'mouth_right': (65, 316)}}, {'box': [265, 512, 53, 64], 'confidence': 0.9998712539672852, 'keypoints': {'left_eye': (274, 535), 'right_eye': (297, 535), 'nose': (281, 550), 'mouth_left': (276, 563), 'mouth_right': (295, 563)}}, {'box': [277, 387, 54, 71], 'confidence': 0.9997746348381042, 'keypoints': {'left_eye': (297, 414), 'right_eye': (321, 413), 'nose': (314, 429), 'mouth_left': (299, 442), 'mouth_right': (321, 440)}}, {'box': [514, 505, 50, 66], 'confidence': 0.9997413754463196, 'keypoints': {'left_eye': (528, 529), 'right_eye': (552, 531), 'nose': (538, 543), 'mouth_left': (528, 555), 'mouth_right': (548, 557)}}, {'box': [403, 268, 61, 75], 'confidence': 0.9994269609451294, 'keypoints': {'left_eye': (426, 299), 'right_eye': (453, 294), 'nose': (446, 308), 'mouth_left': (434, 328), 'mouth_right': (457, 324)}}, {'box': [387, 151, 56, 70], 'confidence': 0.9991346001625061, 'keypoints': {'left_eye': (400, 182), 'right_eye': (425, 177), 'nose': (412, 197), 'mouth_left': (405, 206), 'mouth_right': (430, 202)}}, {'box': [508, 25, 53, 69], 'confidence': 0.9991112351417542, 'keypoints': {'left_eye': (520, 49), 'right_eye': (545, 51), 'nose': (527, 63), 'mouth_left': (518, 76), 'mouth_right': (539, 78)}}, {'box': [630, 132, 58, 73], 'confidence': 0.9989916682243347, 'keypoints': {'left_eye': (641, 160), 'right_eye': (667, 161), 'nose': (649, 170), 'mouth_left': (640, 189), 'mouth_right': (663, 190)}}, {'box': [153, 270, 51, 66], 'confidence': 0.9983299374580383, 'keypoints': {'left_eye': (164, 294), 'right_eye': (188, 293), 'nose': (172, 309), 'mouth_left': (166, 321), 'mouth_right': (186, 322)}}, {'box': [509, 153, 58, 74], 'confidence': 0.9978958368301392, 'keypoints': {'left_eye': (525, 180), 'right_eye': (553, 181), 'nose': (537, 197), 'mouth_left': (526, 209), 'mouth_right': (549, 210)}}, {'box': [629, 277, 46, 59], 'confidence': 0.9972223043441772, 'keypoints': {'left_eye': (640, 296), 'right_eye': (662, 298), 'nose': (648, 311), 'mouth_left': (641, 322), 'mouth_right': (659, 324)}}, {'box': [636, 385, 45, 61], 'confidence': 0.9966020584106445, 'keypoints': {'left_eye': (651, 409), 'right_eye': (673, 413), 'nose': (661, 427), 'mouth_left': (648, 432), 'mouth_right': (666, 437)}}, {'box': [151, 25, 59, 80], 'confidence': 0.9953334927558899, 'keypoints': {'left_eye': (167, 58), 'right_eye': (196, 60), 'nose': (179, 78), 'mouth_left': (167, 89), 'mouth_right': (191, 90)}}, {'box': [399, 510, 48, 61], 'confidence': 0.9952442049980164, 'keypoints': {'left_eye': (420, 531), 'right_eye': (440, 539), 'nose': (430, 546), 'mouth_left': (415, 555), 'mouth_right': (432, 562)}}, {'box': [273, 152, 47, 57], 'confidence': 0.9951109290122986, 'keypoints': {'left_eye': (285, 172), 'right_eye': (306, 168), 'nose': (295, 183), 'mouth_left': (290, 196), 'mouth_right': (309, 192)}}, {'box': [269, 29, 49, 68], 'confidence': 0.9948112964630127, 'keypoints': {'left_eye': (272, 58), 'right_eye': (291, 55), 'nose': (275, 71), 'mouth_left': (277, 85), 'mouth_right': (293, 83)}}, {'box': [42, 148, 41, 53], 'confidence': 0.9943144917488098, 'keypoints': {'left_eye': (57, 167), 'right_eye': (76, 170), 'nose': (68, 181), 'mouth_left': (57, 190), 'mouth_right': (72, 192)}}, {'box': [398, 38, 50, 62], 'confidence': 0.9940711855888367, 'keypoints': {'left_eye': (412, 61), 'right_eye': (437, 60), 'nose': (426, 78), 'mouth_left': (416, 87), 'mouth_right': (435, 86)}}, {'box': [30, 28, 48, 64], 'confidence': 0.9933102130889893, 'keypoints': {'left_eye': (45, 53), 'right_eye': (68, 51), 'nose': (59, 68), 'mouth_left': (48, 78), 'mouth_right': (69, 76)}}, {'box': [149, 153, 52, 66], 'confidence': 0.9932390451431274, 'keypoints': {'left_eye': (156, 180), 'right_eye': (179, 177), 'nose': (160, 190), 'mouth_left': (158, 206), 'mouth_right': (177, 205)}}, {'box': [507, 383, 52, 70], 'confidence': 0.9932199716567993, 'keypoints': {'left_eye': (515, 408), 'right_eye': (537, 412), 'nose': (516, 424), 'mouth_left': (512, 438), 'mouth_right': (530, 442)}}, {'box': [513, 260, 48, 63], 'confidence': 0.9922651052474976, 'keypoints': {'left_eye': (530, 283), 'right_eye': (552, 285), 'nose': (541, 297), 'mouth_left': (530, 308), 'mouth_right': (548, 310)}}, {'box': [145, 390, 54, 70], 'confidence': 0.9915505647659302, 'keypoints': {'left_eye': (154, 415), 'right_eye': (178, 416), 'nose': (158, 428), 'mouth_left': (153, 443), 'mouth_right': (172, 445)}}, {'box': [37, 497, 53, 71], 'confidence': 0.9860996603965759, 'keypoints': {'left_eye': (53, 528), 'right_eye': (76, 521), 'nose': (70, 540), 'mouth_left': (62, 554), 'mouth_right': (81, 548)}}]\n"
     ]
    },
    {
     "data": {
      "text/plain": [
       "-1"
      ]
     },
     "execution_count": 1,
     "metadata": {},
     "output_type": "execute_result"
    }
   ],
   "source": [
    "from mtcnn import MTCNN\n",
    "import cv2\n",
    "\n",
    "detector = MTCNN()\n",
    "\n",
    "img = cv2.imread('images/bond.jpg')\n",
    "\n",
    "\n",
    "output = detector.detect_faces(img)\n",
    "#[{},{}...{}]\n",
    "print(output)\n",
    "\n",
    "for i in output:\n",
    "    x,y,widht,height = i['box']\n",
    "\n",
    "    left_eyeX,left_eyeY = i['keypoints']['left_eye']\n",
    "    right_eyeX,right_eyeY = i['keypoints']['right_eye']\n",
    "    noseX,noseY = i['keypoints']['nose']\n",
    "    mouth_leftX,mouth_leftY = i['keypoints']['mouth_left']\n",
    "    mouth_rightX,mouth_rightY = i['keypoints']['mouth_right']\n",
    "\n",
    "\n",
    "    cv2.circle(img,center=(left_eyeX,left_eyeY),color=(255,0,0),thickness=3,radius=2)\n",
    "    cv2.circle(img,center=(right_eyeX,right_eyeY),color=(255,0,0),thickness=3,radius=2)\n",
    "    cv2.circle(img,center=(noseX,noseY),color=(255,0,0),thickness=3,radius=2)\n",
    "    cv2.circle(img,center=(mouth_leftX,mouth_leftY),color=(255,0,0),thickness=3,radius=2)\n",
    "    cv2.circle(img,center=(mouth_rightX,mouth_rightY),color=(255,0,0),thickness=3,radius=2)\n",
    "\n",
    "    cv2.rectangle(img,pt1=(x,y),pt2=(x+widht,y+height),color=(255,0,0),thickness=3)\n",
    "cv2.imshow('window',img)\n",
    "\n",
    "cv2.waitKey(0)\n",
    "\n",
    "\n",
    "\n"
   ]
  },
  {
   "cell_type": "code",
   "execution_count": null,
   "id": "3bb4e88a",
   "metadata": {},
   "outputs": [],
   "source": []
  },
  {
   "cell_type": "code",
   "execution_count": null,
   "id": "c5d19754",
   "metadata": {},
   "outputs": [],
   "source": []
  }
 ],
 "metadata": {
  "kernelspec": {
   "display_name": "Python 3 (ipykernel)",
   "language": "python",
   "name": "python3"
  },
  "language_info": {
   "codemirror_mode": {
    "name": "ipython",
    "version": 3
   },
   "file_extension": ".py",
   "mimetype": "text/x-python",
   "name": "python",
   "nbconvert_exporter": "python",
   "pygments_lexer": "ipython3",
   "version": "3.9.13"
  }
 },
 "nbformat": 4,
 "nbformat_minor": 5
}
